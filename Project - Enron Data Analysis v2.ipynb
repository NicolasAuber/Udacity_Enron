{
 "cells": [
  {
   "cell_type": "markdown",
   "metadata": {},
   "source": [
    "# Project: Enron Data Analysis\n",
    "**Author:** Nicolas Auber  \n",
    "**Date:** 25 February 2021  \n",
    "\n",
    "## Table of Contents\n",
    "<ul>\n",
    "<li><a href=\"#introduction\">1. Introduction</a></li>\n",
    "<li><a href=\"#exploration\">2. Data Exploration</a></li>\n",
    "<li><a href=\"#wrangling\">3. Data Wrangling</a></li>\n",
    "<li><a href=\"#classifier\">4. Data Classifier</a></li>\n",
    "</ul>"
   ]
  },
  {
   "cell_type": "markdown",
   "metadata": {},
   "source": [
    "<a id='introduction'></a>\n",
    "## 1. Introduction\n",
    "Shortcut to chapters <a href='#introduction'>1</a>, <a href='#exploration'>2</a>, <a href='#wrangling'>3</a> and <a href='#classifier'>4</a>.  \n",
    "\n",
    "This project is part of Airbus Data Analyst Nanodegree Progam. The purpose is to build an algorithm to identify Enron Employees who may have committed fraud based on the public Enron financial and email dataset. These Enron Employees will be identified as POI, which stands for Person Of Interest. To sum up, the purpose is to build a POI classifier."
   ]
  },
  {
   "cell_type": "markdown",
   "metadata": {},
   "source": [
    "### 1.1. Python Libraries\n",
    "The libraries and functions that are used in this project are imported. The version is also displayed."
   ]
  },
  {
   "cell_type": "code",
   "execution_count": 118,
   "metadata": {},
   "outputs": [],
   "source": [
    "# Standard libraries\n",
    "import sys\n",
    "import time\n",
    "import pickle\n",
    "import numpy as np\n",
    "import pandas as pd\n",
    "import pprint\n",
    "import matplotlib.pyplot as plt\n",
    "import seaborn as sns\n",
    "\n",
    "# Specific functions \n",
    "sys.path.append(\"./tools/\")\n",
    "from feature_format import featureFormat, targetFeatureSplit\n",
    "from tester import dump_classifier_and_data, test_classifier\n",
    "\n",
    "# Machine learning libraries\n",
    "from sklearn.naive_bayes import GaussianNB\n",
    "from sklearn.svm import SVC\n",
    "from sklearn import tree, ensemble, neighbors\n",
    "from sklearn.preprocessing import MinMaxScaler\n",
    "from sklearn.feature_selection import SelectKBest\n",
    "from sklearn.model_selection import train_test_split, GridSearchCV\n",
    "from sklearn import decomposition\n",
    "from sklearn.pipeline import Pipeline"
   ]
  },
  {
   "cell_type": "code",
   "execution_count": 119,
   "metadata": {},
   "outputs": [
    {
     "name": "stdout",
     "output_type": "stream",
     "text": [
      "python:  3.7.4 (default, Aug  9 2019, 18:34:13) [MSC v.1915 64 bit (AMD64)]\n",
      "numpy:  1.16.5\n",
      "pandas:  0.25.1\n",
      "seaborn:  0.9.0\n"
     ]
    }
   ],
   "source": [
    "# Displays the version of some libraries\n",
    "print(\"python: \", sys.version)\n",
    "print(\"numpy: \", np.__version__)\n",
    "print(\"pandas: \", pd.__version__)\n",
    "print(\"seaborn: \", sns.__version__)"
   ]
  },
  {
   "cell_type": "code",
   "execution_count": 120,
   "metadata": {},
   "outputs": [],
   "source": [
    "t0 = time.time()"
   ]
  },
  {
   "cell_type": "markdown",
   "metadata": {},
   "source": [
    "### 1.2. Input Files\n",
    "The following files are available:  \n",
    "- **final_project_dataset.pkl:** PKL file containing the Enron financial and email dataset  \n",
    "- **enron61702insiderpay.pdf:** PDF file detailing the Enron financial data along with some explanations  \n",
    "- **poi_names.txt:** TXT file listing the known POI (Person Of Interest) i.e. the Enron Employees who may have committed fraud  \n",
    "\n",
    "Some Python scripts are provided by Udacity:  \n",
    "- **poi_id.py:** Main script with some starter code available  \n",
    "- **feature_format.py:** Script that extracts the features and labels from a dictionary  \n",
    "- **tester.py:** Script used by Udacity to evaluate the algorithm performance and to generate the classifier, dataset and list of features  \n",
    "**Note:** The functions to evaluate the algorithm performance in **tester.py** will be used also through this project. So, no specific performance evaluation function will be developed."
   ]
  },
  {
   "cell_type": "markdown",
   "metadata": {},
   "source": [
    "### 1.3. Dataset\n",
    "The Enron financial and email dataset is contained in the **final_project_dataset.pkl** file. The dataset is extracted and loaded into a dictionary, where each key-value pair in the dictionary corresponds to one person. The dictionary key is the person's name, and the value is another dictionary, which contains the names of all the features and their values for that person."
   ]
  },
  {
   "cell_type": "code",
   "execution_count": 121,
   "metadata": {},
   "outputs": [],
   "source": [
    "# Loads the dictionary containing the dataset\n",
    "with open(\"final_project_dataset.pkl\", \"rb\") as data_file:\n",
    "    data_dict = pickle.load(data_file)"
   ]
  },
  {
   "cell_type": "code",
   "execution_count": 122,
   "metadata": {},
   "outputs": [
    {
     "name": "stdout",
     "output_type": "stream",
     "text": [
      "Number of Enron employees:  144\n",
      "['METTS MARK',\n",
      " 'BAXTER JOHN C',\n",
      " 'ELLIOTT STEVEN',\n",
      " 'CORDES WILLIAM R',\n",
      " 'HANNON KEVIN P',\n",
      " 'MORDAUNT KRISTINA M',\n",
      " 'MEYER ROCKFORD G',\n",
      " 'MCMAHON JEFFREY',\n",
      " 'HAEDICKE MARK E',\n",
      " 'PIPER GREGORY F',\n",
      " 'HUMPHREY GENE E',\n",
      " 'NOLES JAMES L',\n",
      " 'BLACHMAN JEREMY M',\n",
      " 'SUNDE MARTIN',\n",
      " 'GIBBS DANA R',\n",
      " 'LOWRY CHARLES P',\n",
      " 'COLWELL WESLEY',\n",
      " 'MULLER MARK S',\n",
      " 'JACKSON CHARLENE R',\n",
      " 'WESTFAHL RICHARD K',\n",
      " 'WALTERS GARETH W',\n",
      " 'WALLS JR ROBERT H',\n",
      " 'KITCHEN LOUISE',\n",
      " 'CHAN RONNIE',\n",
      " 'BELFER ROBERT',\n",
      " 'SHANKMAN JEFFREY A',\n",
      " 'WODRASKA JOHN',\n",
      " 'BERGSIEKER RICHARD P',\n",
      " 'URQUHART JOHN A',\n",
      " 'BIBI PHILIPPE A',\n",
      " 'RIEKER PAULA H',\n",
      " 'WHALEY DAVID A',\n",
      " 'BECK SALLY W',\n",
      " 'HAUG DAVID L',\n",
      " 'ECHOLS JOHN B',\n",
      " 'MENDELSOHN JOHN',\n",
      " 'HICKERSON GARY J',\n",
      " 'CLINE KENNETH W',\n",
      " 'LEWIS RICHARD',\n",
      " 'HAYES ROBERT E',\n",
      " 'KOPPER MICHAEL J',\n",
      " 'LEFF DANIEL P',\n",
      " 'LAVORATO JOHN J',\n",
      " 'BERBERIAN DAVID',\n",
      " 'DETMERING TIMOTHY J',\n",
      " 'WAKEHAM JOHN',\n",
      " 'POWERS WILLIAM',\n",
      " 'GOLD JOSEPH',\n",
      " 'BANNANTINE JAMES M',\n",
      " 'DUNCAN JOHN H',\n",
      " 'SHAPIRO RICHARD S',\n",
      " 'SHERRIFF JOHN R',\n",
      " 'SHELBY REX',\n",
      " 'LEMAISTRE CHARLES',\n",
      " 'DEFFNER JOSEPH M',\n",
      " 'KISHKILL JOSEPH G',\n",
      " 'WHALLEY LAWRENCE G',\n",
      " 'MCCONNELL MICHAEL S',\n",
      " 'PIRO JIM',\n",
      " 'DELAINEY DAVID W',\n",
      " 'SULLIVAN-SHAKLOVITZ COLLEEN',\n",
      " 'WROBEL BRUCE',\n",
      " 'LINDHOLM TOD A',\n",
      " 'MEYER JEROME J',\n",
      " 'LAY KENNETH L',\n",
      " 'BUTTS ROBERT H',\n",
      " 'OLSON CINDY K',\n",
      " 'MCDONALD REBECCA',\n",
      " 'CUMBERLAND MICHAEL S',\n",
      " 'GAHN ROBERT S',\n",
      " 'BADUM JAMES P',\n",
      " 'HERMANN ROBERT J',\n",
      " 'FALLON JAMES B',\n",
      " 'GATHMANN WILLIAM D',\n",
      " 'HORTON STANLEY C',\n",
      " 'BOWEN JR RAYMOND M',\n",
      " 'GILLIS JOHN',\n",
      " 'FITZGERALD JAY L',\n",
      " 'MORAN MICHAEL P',\n",
      " 'REDMOND BRIAN L',\n",
      " 'BAZELIDES PHILIP J',\n",
      " 'BELDEN TIMOTHY N',\n",
      " 'DIMICHELE RICHARD G',\n",
      " 'DURAN WILLIAM D',\n",
      " 'THORN TERENCE H',\n",
      " 'FASTOW ANDREW S',\n",
      " 'FOY JOE',\n",
      " 'CALGER CHRISTOPHER F',\n",
      " 'RICE KENNETH D',\n",
      " 'KAMINSKI WINCENTY J',\n",
      " 'LOCKHART EUGENE E',\n",
      " 'COX DAVID',\n",
      " 'OVERDYKE JR JERE C',\n",
      " 'PEREIRA PAULO V. FERRAZ',\n",
      " 'STABLER FRANK',\n",
      " 'SKILLING JEFFREY K',\n",
      " 'BLAKE JR. NORMAN P',\n",
      " 'SHERRICK JEFFREY B',\n",
      " 'PRENTICE JAMES',\n",
      " 'GRAY RODNEY',\n",
      " 'UMANOFF ADAM S',\n",
      " 'KEAN STEVEN J',\n",
      " 'FOWLER PEGGY',\n",
      " 'WASAFF GEORGE',\n",
      " 'WHITE JR THOMAS E',\n",
      " 'CHRISTODOULOU DIOMEDES',\n",
      " 'ALLEN PHILLIP K',\n",
      " 'SHARP VICTORIA T',\n",
      " 'JAEDICKE ROBERT',\n",
      " 'WINOKUR JR. HERBERT S',\n",
      " 'BROWN MICHAEL',\n",
      " 'MCCLELLAN GEORGE',\n",
      " 'HUGHES JAMES A',\n",
      " 'REYNOLDS LAWRENCE',\n",
      " 'PICKERING MARK R',\n",
      " 'BHATNAGAR SANJAY',\n",
      " 'CARTER REBECCA C',\n",
      " 'BUCHANAN HAROLD G',\n",
      " 'YEAP SOON',\n",
      " 'MURRAY JULIA H',\n",
      " 'GARLAND C KEVIN',\n",
      " 'DODSON KEITH',\n",
      " 'YEAGER F SCOTT',\n",
      " 'HIRKO JOSEPH',\n",
      " 'DIETRICH JANET R',\n",
      " 'DERRICK JR. JAMES V',\n",
      " 'FREVERT MARK A',\n",
      " 'PAI LOU L',\n",
      " 'HAYSLETT RODERICK J',\n",
      " 'BAY FRANKLIN R',\n",
      " 'MCCARTY DANNY J',\n",
      " 'FUGH JOHN L',\n",
      " 'SCRIMSHAW MATTHEW',\n",
      " 'KOENIG MARK E',\n",
      " 'SAVAGE FRANK',\n",
      " 'IZZO LAWRENCE L',\n",
      " 'TILNEY ELIZABETH A',\n",
      " 'MARTIN AMANDA K',\n",
      " 'BUY RICHARD B',\n",
      " 'GRAMM WENDY L',\n",
      " 'CAUSEY RICHARD A',\n",
      " 'TAYLOR MITCHELL S',\n",
      " 'DONAHUE JR JEFFREY M',\n",
      " 'GLISAN JR BEN F']\n"
     ]
    }
   ],
   "source": [
    "# As already seen during Udacity Intro To Machine Learning course, there are 2 entries that are not employees.\n",
    "# They are removed from the dataset.\n",
    "no_employees_list = ['TOTAL', 'THE TRAVEL AGENCY IN THE PARK']\n",
    "for item in no_employees_list:\n",
    "    data_dict.pop(item)\n",
    "    \n",
    "# Enron employees\n",
    "employees_list = list(data_dict.keys())\n",
    "print(\"Number of Enron employees: \", len(employees_list))\n",
    "pprint.pprint(employees_list)"
   ]
  },
  {
   "cell_type": "code",
   "execution_count": 123,
   "metadata": {},
   "outputs": [
    {
     "name": "stdout",
     "output_type": "stream",
     "text": [
      "Number of features:  21\n",
      "['salary',\n",
      " 'to_messages',\n",
      " 'deferral_payments',\n",
      " 'total_payments',\n",
      " 'loan_advances',\n",
      " 'bonus',\n",
      " 'email_address',\n",
      " 'restricted_stock_deferred',\n",
      " 'deferred_income',\n",
      " 'total_stock_value',\n",
      " 'expenses',\n",
      " 'from_poi_to_this_person',\n",
      " 'exercised_stock_options',\n",
      " 'from_messages',\n",
      " 'other',\n",
      " 'from_this_person_to_poi',\n",
      " 'poi',\n",
      " 'long_term_incentive',\n",
      " 'shared_receipt_with_poi',\n",
      " 'restricted_stock',\n",
      " 'director_fees']\n"
     ]
    }
   ],
   "source": [
    "# Features for each Enron employee\n",
    "features_list = list(data_dict['LAY KENNETH L'].keys())\n",
    "print(\"Number of features: \", len(features_list))\n",
    "pprint.pprint(features_list)"
   ]
  },
  {
   "cell_type": "markdown",
   "metadata": {},
   "source": [
    "The features in the dataset fall into three major types, namely financial features, email features and POI labels.  \n",
    "Let's remove the **email_address** feature and re-order the remaining features as follows:  \n",
    "- POI labels  \n",
    "- Email features  \n",
    "- Financial features"
   ]
  },
  {
   "cell_type": "code",
   "execution_count": 124,
   "metadata": {},
   "outputs": [
    {
     "name": "stdout",
     "output_type": "stream",
     "text": [
      "Number of features:  20\n"
     ]
    }
   ],
   "source": [
    "features_list = ['poi',\n",
    "                 'from_messages', 'to_messages', 'from_this_person_to_poi', 'from_poi_to_this_person', 'shared_receipt_with_poi',\n",
    "                 'salary','bonus','long_term_incentive','deferred_income','deferral_payments','loan_advances','other','expenses','director_fees','total_payments',\n",
    "                 'exercised_stock_options','restricted_stock','restricted_stock_deferred','total_stock_value']\n",
    "print(\"Number of features: \", len(features_list))"
   ]
  },
  {
   "cell_type": "markdown",
   "metadata": {},
   "source": [
    "The feature **poi** is actually the label that identifies the POI (Person Of Interest).\n",
    "\n",
    "The 5 **email features** are summarized below:     \n",
    "- **from_messages:** Number of emails sent by this person  \n",
    "- **to_messages:** Number of emails received by this person  \n",
    "- **from_this_person_to_poi:** Number of emails sent by this person to a POI\n",
    "- **from_poi_to_this_person:** Number of emails sent by a POI to this person \n",
    "- **shared_receipt_with_poi:** Number of emails received by this person with a POI in shared receipt  \n",
    "**Note:** Units are generally number of emails messages; notable exception is **email_address**, which is a text string. But this feature has been removed from **features_list** above.\n",
    "\n",
    "The 14 **financial features** are presented in input PDF file. See a quick summary below:      \n",
    "- **salary:** (1) Items such as base salary, executive cash allowances, and benefits payments  \n",
    "- **bonus:** (2) Annual cash incentives paid based upon company performance  \n",
    "- **long_term_incentive:** (3) Long-term incentive cash payments  \n",
    "- **deferred_income:** (4) Voluntary executive deferrals of salary, annual cash incentives, and long-term cash incentives  \n",
    "- **deferral_payments:** (5) Distributions from a deferred compensation arrangement  \n",
    "- **loan_advances:** (6) Total amount of loan advances  \n",
    "- **other:** (7) Items such as payments for severence, consulting services, relocation costs...\n",
    "- **expenses:** (8) Reimbursements of business expenses\n",
    "- **director_fees:** (9) Cash payments and/or value of stock grants made in lieu of cash payments to non-employee directors  \n",
    "- **total_payments:** Total amount of above \"payment\" items  \n",
    "- **exercised_stock_options:** (10) Amounts from exercised stock options  \n",
    "- **restricted_stock:** (11) The gross fair market value of shares and accrued dividends\n",
    "- **restricted_stock_deferred:** (12) Value of restricted stock\n",
    "- **total_stock_value:**  Total amount of above \"stock\" items  \n",
    "**Note:** All units are in US dollars."
   ]
  },
  {
   "cell_type": "markdown",
   "metadata": {},
   "source": [
    "<a id='exploration'></a>\n",
    "## 2. Data Exploration\n",
    "Shortcut to chapters <a href='#introduction'>1</a>, <a href='#exploration'>2</a>, <a href='#wrangling'>3</a> and <a href='#classifier'>4</a>.  \n",
    "\n",
    "The objective in this chapter is to explore the dataset in order to know the dataset better and maybe identify any problems in the data set. We will explore the dataset using a pandas dataframe."
   ]
  },
  {
   "cell_type": "code",
   "execution_count": 125,
   "metadata": {},
   "outputs": [],
   "source": [
    "data = featureFormat(data_dict, features_list, remove_NaN=False, remove_all_zeroes=False, remove_any_zeroes=False, sort_keys = False)\n",
    "df = pd.DataFrame(data, index=employees_list, columns=features_list)"
   ]
  },
  {
   "cell_type": "markdown",
   "metadata": {},
   "source": [
    "### 2.1. Overview\n",
    "Overall information is given on the dataframe below."
   ]
  },
  {
   "cell_type": "code",
   "execution_count": 126,
   "metadata": {
    "scrolled": true
   },
   "outputs": [
    {
     "name": "stdout",
     "output_type": "stream",
     "text": [
      "<class 'pandas.core.frame.DataFrame'>\n",
      "Index: 144 entries, METTS MARK to GLISAN JR BEN F\n",
      "Data columns (total 20 columns):\n",
      "poi                          144 non-null float64\n",
      "from_messages                86 non-null float64\n",
      "to_messages                  86 non-null float64\n",
      "from_this_person_to_poi      86 non-null float64\n",
      "from_poi_to_this_person      86 non-null float64\n",
      "shared_receipt_with_poi      86 non-null float64\n",
      "salary                       94 non-null float64\n",
      "bonus                        81 non-null float64\n",
      "long_term_incentive          65 non-null float64\n",
      "deferred_income              48 non-null float64\n",
      "deferral_payments            38 non-null float64\n",
      "loan_advances                3 non-null float64\n",
      "other                        91 non-null float64\n",
      "expenses                     94 non-null float64\n",
      "director_fees                16 non-null float64\n",
      "total_payments               123 non-null float64\n",
      "exercised_stock_options      101 non-null float64\n",
      "restricted_stock             109 non-null float64\n",
      "restricted_stock_deferred    17 non-null float64\n",
      "total_stock_value            125 non-null float64\n",
      "dtypes: float64(20)\n",
      "memory usage: 23.6+ KB\n",
      "None\n"
     ]
    }
   ],
   "source": [
    "print(df.info())"
   ]
  },
  {
   "cell_type": "code",
   "execution_count": 127,
   "metadata": {
    "scrolled": true
   },
   "outputs": [
    {
     "name": "stdout",
     "output_type": "stream",
     "text": [
      "                  poi  from_messages  to_messages  from_this_person_to_poi  \\\n",
      "METTS MARK        0.0           29.0        807.0                      1.0   \n",
      "BAXTER JOHN C     0.0            NaN          NaN                      NaN   \n",
      "ELLIOTT STEVEN    0.0            NaN          NaN                      NaN   \n",
      "CORDES WILLIAM R  0.0           12.0        764.0                      0.0   \n",
      "HANNON KEVIN P    1.0           32.0       1045.0                     21.0   \n",
      "\n",
      "                  from_poi_to_this_person  shared_receipt_with_poi    salary  \\\n",
      "METTS MARK                           38.0                    702.0  365788.0   \n",
      "BAXTER JOHN C                         NaN                      NaN  267102.0   \n",
      "ELLIOTT STEVEN                        NaN                      NaN  170941.0   \n",
      "CORDES WILLIAM R                     10.0                     58.0       NaN   \n",
      "HANNON KEVIN P                       32.0                   1035.0  243293.0   \n",
      "\n",
      "                      bonus  long_term_incentive  deferred_income  \\\n",
      "METTS MARK         600000.0                  NaN              NaN   \n",
      "BAXTER JOHN C     1200000.0            1586055.0       -1386055.0   \n",
      "ELLIOTT STEVEN     350000.0                  NaN        -400729.0   \n",
      "CORDES WILLIAM R        NaN                  NaN              NaN   \n",
      "HANNON KEVIN P    1500000.0            1617011.0       -3117011.0   \n",
      "\n",
      "                  deferral_payments  loan_advances      other  expenses  \\\n",
      "METTS MARK                      NaN            NaN     1740.0   94299.0   \n",
      "BAXTER JOHN C             1295738.0            NaN  2660303.0   11200.0   \n",
      "ELLIOTT STEVEN                  NaN            NaN    12961.0   78552.0   \n",
      "CORDES WILLIAM R                NaN            NaN        NaN       NaN   \n",
      "HANNON KEVIN P                  NaN            NaN    11350.0   34039.0   \n",
      "\n",
      "                  director_fees  total_payments  exercised_stock_options  \\\n",
      "METTS MARK                  NaN       1061827.0                      NaN   \n",
      "BAXTER JOHN C               NaN       5634343.0                6680544.0   \n",
      "ELLIOTT STEVEN              NaN        211725.0                4890344.0   \n",
      "CORDES WILLIAM R            NaN             NaN                 651850.0   \n",
      "HANNON KEVIN P              NaN        288682.0                5538001.0   \n",
      "\n",
      "                  restricted_stock  restricted_stock_deferred  \\\n",
      "METTS MARK                585062.0                        NaN   \n",
      "BAXTER JOHN C            3942714.0                        NaN   \n",
      "ELLIOTT STEVEN           1788391.0                        NaN   \n",
      "CORDES WILLIAM R          386335.0                        NaN   \n",
      "HANNON KEVIN P            853064.0                        NaN   \n",
      "\n",
      "                  total_stock_value  \n",
      "METTS MARK                 585062.0  \n",
      "BAXTER JOHN C            10623258.0  \n",
      "ELLIOTT STEVEN            6678735.0  \n",
      "CORDES WILLIAM R          1038185.0  \n",
      "HANNON KEVIN P            6391065.0  \n"
     ]
    }
   ],
   "source": [
    "print(df.head())"
   ]
  },
  {
   "cell_type": "code",
   "execution_count": 128,
   "metadata": {
    "scrolled": true
   },
   "outputs": [
    {
     "name": "stdout",
     "output_type": "stream",
     "text": [
      "Total:  144\n",
      "Number of POI:  18\n",
      "Number of non POI:  126\n",
      "###\n",
      "poi                          86\n",
      "from_messages                86\n",
      "to_messages                  86\n",
      "from_this_person_to_poi      86\n",
      "from_poi_to_this_person      86\n",
      "shared_receipt_with_poi      86\n",
      "salary                       67\n",
      "bonus                        61\n",
      "long_term_incentive          48\n",
      "deferred_income              26\n",
      "deferral_payments            22\n",
      "loan_advances                 3\n",
      "other                        63\n",
      "expenses                     60\n",
      "director_fees                 2\n",
      "total_payments               75\n",
      "exercised_stock_options      67\n",
      "restricted_stock             76\n",
      "restricted_stock_deferred     7\n",
      "total_stock_value            80\n",
      "dtype: int64\n",
      "###\n",
      "Total:  86\n",
      "Number of POI:  14\n",
      "Number of non POI:  72\n"
     ]
    }
   ],
   "source": [
    "print(\"Total: \", df['poi'].count())\n",
    "print(\"Number of POI: \", df[df['poi']==True]['poi'].count())\n",
    "print(\"Number of non POI: \", df[df['poi']==False]['poi'].count())\n",
    "print(\"###\")\n",
    "#df = df[df['salary'].notnull()]\n",
    "#df = df[df['bonus'].notnull()]\n",
    "df1 = df[df['from_messages'].notnull()]\n",
    "print(df1.count())\n",
    "print(\"###\")\n",
    "print(\"Total: \", df1['poi'].count())\n",
    "print(\"Number of POI: \", df1[df1['poi']==True]['poi'].count())\n",
    "print(\"Number of non POI: \", df1[df1['poi']==False]['poi'].count())"
   ]
  },
  {
   "cell_type": "code",
   "execution_count": 129,
   "metadata": {},
   "outputs": [
    {
     "data": {
      "text/plain": [
       "Index(['LOCKHART EUGENE E'], dtype='object')"
      ]
     },
     "execution_count": 129,
     "metadata": {},
     "output_type": "execute_result"
    }
   ],
   "source": [
    "# Checks if some employees have only NaN values\n",
    "df[df.isnull().sum(axis=1)==len(features_list)-1].index[:]"
   ]
  },
  {
   "cell_type": "code",
   "execution_count": 130,
   "metadata": {},
   "outputs": [
    {
     "name": "stdout",
     "output_type": "stream",
     "text": [
      "{'salary': 'NaN', 'to_messages': 'NaN', 'deferral_payments': 'NaN', 'total_payments': 'NaN', 'loan_advances': 'NaN', 'bonus': 'NaN', 'email_address': 'NaN', 'restricted_stock_deferred': 'NaN', 'deferred_income': 'NaN', 'total_stock_value': 'NaN', 'expenses': 'NaN', 'from_poi_to_this_person': 'NaN', 'exercised_stock_options': 'NaN', 'from_messages': 'NaN', 'other': 'NaN', 'from_this_person_to_poi': 'NaN', 'poi': False, 'long_term_incentive': 'NaN', 'shared_receipt_with_poi': 'NaN', 'restricted_stock': 'NaN', 'director_fees': 'NaN'}\n"
     ]
    }
   ],
   "source": [
    "print(data_dict['LOCKHART EUGENE E'])"
   ]
  },
  {
   "cell_type": "markdown",
   "metadata": {},
   "source": [
    "**Summary:**  \n",
    "- There are many NaN values.\n",
    "- By removing the NaN values (i.e. 58 data points) for the feature **from_messages**, we still have a correct number of values for the financial data. Even if not chosen, a way forward to build the classifier could be the deletion of all the entries with no email data."
   ]
  },
  {
   "cell_type": "markdown",
   "metadata": {},
   "source": [
    "### 2.2. Distribution Plots\n",
    "Let's plot 2 distributions for one financial feature **salary** and one email feature **to_messages**."
   ]
  },
  {
   "cell_type": "code",
   "execution_count": 131,
   "metadata": {},
   "outputs": [
    {
     "data": {
      "image/png": "[encoded data removed]",
      "text/plain": [
       "<Figure size 432x288 with 1 Axes>"
      ]
     },
     "metadata": {
      "needs_background": "light"
     },
     "output_type": "display_data"
    }
   ],
   "source": [
    "df['salary'].plot.hist(bins=20)\n",
    "plt.show()"
   ]
  },
  {
   "cell_type": "code",
   "execution_count": 132,
   "metadata": {},
   "outputs": [
    {
     "data": {
      "image/png": "[encoded data removed]",
      "text/plain": [
       "<Figure size 432x288 with 1 Axes>"
      ]
     },
     "metadata": {
      "needs_background": "light"
     },
     "output_type": "display_data"
    }
   ],
   "source": [
    "df['to_messages'].plot.hist(bins=20)\n",
    "plt.show()"
   ]
  },
  {
   "cell_type": "markdown",
   "metadata": {},
   "source": [
    "**Summary:** The above distributions are positively skewed distributions. "
   ]
  },
  {
   "cell_type": "markdown",
   "metadata": {},
   "source": [
    "### 2.3. Scatter Plots "
   ]
  },
  {
   "cell_type": "code",
   "execution_count": 133,
   "metadata": {},
   "outputs": [],
   "source": [
    "# Displays a scatter plot for 2 features distinguishing the POI and non POI \n",
    "def plotGraph(feature1, feature2):\n",
    "    x_poi = df[df['poi']==True][feature1].tolist()\n",
    "    x_npoi = df[df['poi']==False][feature1].tolist()\n",
    "    y_poi = df[df['poi']==True][feature2].tolist()\n",
    "    y_npoi = df[df['poi']==False][feature2].tolist()\n",
    "    plt.scatter(x_poi, y_poi, color='r', label = 'poi') \n",
    "    plt.scatter(x_npoi, y_npoi, color='b', label = 'non poi') \n",
    "    plt.xlabel(feature1)\n",
    "    plt.ylabel(feature2)\n",
    "    plt.legend()\n",
    "    plt.show()"
   ]
  },
  {
   "cell_type": "code",
   "execution_count": 134,
   "metadata": {
    "scrolled": true
   },
   "outputs": [
    {
     "data": {
      "image/png": "[encoded data removed]",
      "text/plain": [
       "<Figure size 432x288 with 1 Axes>"
      ]
     },
     "metadata": {
      "needs_background": "light"
     },
     "output_type": "display_data"
    },
    {
     "name": "stdout",
     "output_type": "stream",
     "text": [
      "                    poi     salary      bonus\n",
      "LAVORATO JOHN J     0.0   339288.0  8000000.0\n",
      "WHALLEY LAWRENCE G  0.0   510364.0  3000000.0\n",
      "LAY KENNETH L       1.0  1072321.0  7000000.0\n",
      "BELDEN TIMOTHY N    1.0   213999.0  5249999.0\n",
      "SKILLING JEFFREY K  1.0  1111258.0  5600000.0\n",
      "ALLEN PHILLIP K     0.0   201955.0  4175000.0\n",
      "PICKERING MARK R    0.0   655037.0   300000.0\n",
      "FREVERT MARK A      0.0  1060932.0  2000000.0\n"
     ]
    }
   ],
   "source": [
    "# Scatter plot 'salary' vs 'bonus'. Prints remarkable values. \n",
    "plotGraph('salary', 'bonus')\n",
    "print(df.loc[(df['salary'] > 500000) | (df['bonus'] > 4000000),['poi','salary','bonus']])"
   ]
  },
  {
   "cell_type": "code",
   "execution_count": 135,
   "metadata": {
    "scrolled": true
   },
   "outputs": [
    {
     "data": {
      "image/png": "[encoded data removed]",
      "text/plain": [
       "<Figure size 432x288 with 1 Axes>"
      ]
     },
     "metadata": {
      "needs_background": "light"
     },
     "output_type": "display_data"
    },
    {
     "name": "stdout",
     "output_type": "stream",
     "text": [
      "                    poi  total_payments  total_stock_value\n",
      "BAXTER JOHN C       0.0       5634343.0         10623258.0\n",
      "LAY KENNETH L       1.0     103559793.0         49110078.0\n",
      "RICE KENNETH D      1.0        505050.0         22542539.0\n",
      "SKILLING JEFFREY K  1.0       8682716.0         26093672.0\n",
      "WHITE JR THOMAS E   0.0       1934359.0         15144123.0\n",
      "YEAGER F SCOTT      1.0        360300.0         11884758.0\n",
      "HIRKO JOSEPH        1.0         91093.0         30766064.0\n",
      "FREVERT MARK A      0.0      17252530.0         14622185.0\n",
      "PAI LOU L           0.0       3123383.0         23817930.0\n"
     ]
    }
   ],
   "source": [
    "# Scatter plot 'total_payments' vs 'total_stock_value'. Prints remarkable values.\n",
    "plotGraph('total_payments', 'total_stock_value')\n",
    "print(df.loc[df['total_stock_value'] > 10000000,['poi','total_payments','total_stock_value']])"
   ]
  },
  {
   "cell_type": "code",
   "execution_count": 136,
   "metadata": {
    "scrolled": true
   },
   "outputs": [
    {
     "data": {
      "image/png": "[encoded data removed]",
      "text/plain": [
       "<Figure size 432x288 with 1 Axes>"
      ]
     },
     "metadata": {
      "needs_background": "light"
     },
     "output_type": "display_data"
    },
    {
     "name": "stdout",
     "output_type": "stream",
     "text": [
      "                     poi  from_messages  to_messages\n",
      "KITCHEN LOUISE       0.0         1728.0       8305.0\n",
      "BECK SALLY W         0.0         4343.0       7315.0\n",
      "LAVORATO JOHN J      0.0         2585.0       7259.0\n",
      "SHAPIRO RICHARD S    0.0         1215.0      15149.0\n",
      "WHALLEY LAWRENCE G   0.0          556.0       6019.0\n",
      "BELDEN TIMOTHY N     1.0          484.0       7991.0\n",
      "KAMINSKI WINCENTY J  0.0        14368.0       4607.0\n",
      "KEAN STEVEN J        0.0         6759.0      12754.0\n"
     ]
    }
   ],
   "source": [
    "# Scatter plot 'from_messages' vs 'to_messages'. Prints remarkable values.\n",
    "plotGraph('from_messages', 'to_messages')\n",
    "print(df.loc[(df['to_messages'] > 5000) | (df['from_messages'] > 5000),['poi','from_messages','to_messages']])"
   ]
  },
  {
   "cell_type": "code",
   "execution_count": 137,
   "metadata": {},
   "outputs": [
    {
     "data": {
      "image/png": "[encoded data removed]",
      "text/plain": [
       "<Figure size 432x288 with 1 Axes>"
      ]
     },
     "metadata": {
      "needs_background": "light"
     },
     "output_type": "display_data"
    },
    {
     "name": "stdout",
     "output_type": "stream",
     "text": [
      "                      poi  ratio_from_poi  ratio_to_poi\n",
      "HUMPHREY GENE E       0.0        1.000000      0.078125\n",
      "DEFFNER JOSEPH M      0.0        0.054054      0.161064\n",
      "DONAHUE JR JEFFREY M  0.0        0.500000      0.217341\n"
     ]
    }
   ],
   "source": [
    "# Creates new email features focusing on ratios.\n",
    "df['ratio_from_poi']= df['from_this_person_to_poi'] / df['from_messages']\n",
    "df['ratio_to_poi']= df['from_poi_to_this_person'] / df['to_messages']\n",
    "df['ratio_shared_poi']= df['shared_receipt_with_poi'] / df['to_messages']\n",
    "\n",
    "# Scatter plot 'ratio_from_poi' vs 'ratio_to_poi'. Prints remarkable values.\n",
    "plotGraph('ratio_from_poi', 'ratio_to_poi')\n",
    "print(df.loc[(df['ratio_from_poi'] > 0.8) | (df['ratio_to_poi'] > 0.15),['poi','ratio_from_poi','ratio_to_poi']])"
   ]
  },
  {
   "cell_type": "markdown",
   "metadata": {},
   "source": [
    "**Summary:** Please find a few comments below.   \n",
    "- **salary/bonus** plot: No outliers\n",
    "- **total_payments/total_stock_value** plot: Enron founder Kenneth Lay is an outlier. Indeed, as a very specific POI, this data point will probably modify the POI classifier. This data point will be removed.\n",
    "- **from_messages/to_messages** plot: Wincenty Kaminski will be considered as an outlier. Indeed, the number of messages sent by this person are very high and this is not a POI. I had some doubts about that outlier but this decision was taken based on the POI classifier performance with and without this data point.\n",
    "- **ratio_from_poi/ratio_to_poi** plot: As seen during Udacity training, the ratio values instead of absolute values might be interesting for the classifier. It is confirmed by this plot. All values with a ratio_from_poi less than 0.2 are not POI. Maybe a decision tree classifier would be a good solution for the algorithm."
   ]
  },
  {
   "cell_type": "markdown",
   "metadata": {
    "collapsed": true
   },
   "source": [
    "<a id='wrangling'></a>\n",
    "## 3. Data Wrangling\n",
    "Shortcut to chapters <a href='#introduction'>1</a>, <a href='#exploration'>2</a>, <a href='#wrangling'>3</a> and <a href='#classifier'>4</a>.  \n",
    "\n",
    "The objective in this chapter is to wrangle the data. The following checks will be done.\n",
    "- **Missing values**\n",
    "- **Consistent values** on POI label\n",
    "- **Outliers**"
   ]
  },
  {
   "cell_type": "markdown",
   "metadata": {},
   "source": [
    "### 3.1. Missing Values\n",
    "As observed in chapter <a href='#exploration'>§2</a>, the number of data points is small (144 employees) and the number of missing values (NaN values) is large for some features. The decision is taken to discard the features with a large number of missing values. An arbitrary value of 81 (value for **bonus** feature) is considered.  "
   ]
  },
  {
   "cell_type": "code",
   "execution_count": 138,
   "metadata": {},
   "outputs": [
    {
     "name": "stdout",
     "output_type": "stream",
     "text": [
      "Number of features:  14\n",
      "['poi',\n",
      " 'from_messages',\n",
      " 'to_messages',\n",
      " 'from_this_person_to_poi',\n",
      " 'from_poi_to_this_person',\n",
      " 'shared_receipt_with_poi',\n",
      " 'salary',\n",
      " 'bonus',\n",
      " 'other',\n",
      " 'expenses',\n",
      " 'total_payments',\n",
      " 'exercised_stock_options',\n",
      " 'restricted_stock',\n",
      " 'total_stock_value']\n"
     ]
    }
   ],
   "source": [
    "for col in df.columns:\n",
    "    if df[col].count() < 81:\n",
    "        features_list.remove(col)\n",
    "print(\"Number of features: \", len(features_list))\n",
    "pprint.pprint(features_list)"
   ]
  },
  {
   "cell_type": "markdown",
   "metadata": {},
   "source": [
    "**Note:** The remaining NaN values will be imported as null values. "
   ]
  },
  {
   "cell_type": "markdown",
   "metadata": {},
   "source": [
    "### 3.2. Consistent Values on POI label\n",
    "The dataset provides a list of 18 POI and the input TXT file provides a list of POI. Let's check if the 2 lists of POI are consistent."
   ]
  },
  {
   "cell_type": "code",
   "execution_count": 139,
   "metadata": {
    "scrolled": false
   },
   "outputs": [
    {
     "name": "stdout",
     "output_type": "stream",
     "text": [
      "Number of POI:  35\n",
      "['LAY KENNETH', 'SKILLING JEFFREY', 'HOWARD KEVIN', 'KRAUTZ MICHAEL', 'YEAGER SCOTT', 'HIRKO JOSEPH', 'SHELBY REX', 'BERMINGHAM DAVID', 'DARBY GILES', 'MULGREW GARY', 'BAYLEY DANIEL', 'BROWN JAMES', 'FURST ROBERT', 'FUHS WILLIAM', 'CAUSEY RICHARD', 'CALGER CHRISTOPHER', 'DESPAIN TIMOTHY', 'HANNON KEVIN', 'KOENIG MARK', 'FORNEY JOHN', 'RICE KENNETH', 'RIEKER PAULA', 'FASTOW LEA', 'FASTOW ANDREW', 'DELAINEY DAVID', 'GLISAN BEN', 'RICHTER JEFFREY', 'LAWYER LARRY', 'BELDEN TIMOTHY', 'KOPPER MICHAEL', 'DUNCAN DAVID', 'BOWEN RAYMOND', 'COLWELL WESLEY', 'BOYLE DAN', 'LOEHR CHRISTOPHER']\n"
     ]
    }
   ],
   "source": [
    "# Generates a list of POI (FIRST NAME LAST NAME) from poi_names.txt file\n",
    "poi_list1 = []\n",
    "with open('poi_names.txt', 'r') as f:\n",
    "    for line in f:\n",
    "        if line[0] == '(':\n",
    "            line = line.replace(',','')\n",
    "            name = line.split()\n",
    "            poi_list1.append(name[1].upper()+\" \"+name[2].upper())\n",
    "print(\"Number of POI: \", len(poi_list1))\n",
    "print(poi_list1)"
   ]
  },
  {
   "cell_type": "code",
   "execution_count": 140,
   "metadata": {
    "scrolled": true
   },
   "outputs": [
    {
     "name": "stdout",
     "output_type": "stream",
     "text": [
      "Number of non POI:  126\n",
      "Number of POI:  18\n",
      "['HANNON KEVIN', 'COLWELL WESLEY', 'RIEKER PAULA', 'KOPPER MICHAEL', 'SHELBY REX', 'DELAINEY DAVID', 'LAY KENNETH', 'BOWEN RAYMOND', 'BELDEN TIMOTHY', 'FASTOW ANDREW', 'CALGER CHRISTOPHER', 'RICE KENNETH', 'SKILLING JEFFREY', 'YEAGER SCOTT', 'HIRKO JOSEPH', 'KOENIG MARK', 'CAUSEY RICHARD', 'GLISAN BEN']\n"
     ]
    }
   ],
   "source": [
    "# Updates the format of the fullname coming from the Enron dataset\n",
    "def updateName(fullname):\n",
    "    list = fullname.split()\n",
    "    if len(list[1])==1: #Example 'YEAGER F SCOTT'\n",
    "        name = list[0] + \" \" + list[2]\n",
    "    elif list[1]==\"JR.\" or list[1]==\"JR\": #Example: 'WHITE JR THOMAS E'\n",
    "        name = list[0] + \" \" + list[2]\n",
    "    else: #Example: 'KEAN STEVEN J' or 'FOWLER PEGGY'\n",
    "        name = list[0] + \" \" + list[1]\n",
    "    return name\n",
    "\n",
    "# Generates a list of POI and a list of non POI from the Enron dataset\n",
    "poi_list2 = []\n",
    "npoi_list2 = []\n",
    "for employee in employees_list:\n",
    "    if data_dict[employee]['poi'] == True:\n",
    "        poi_list2.append(updateName(employee))\n",
    "    else:\n",
    "        npoi_list2.append(updateName(employee))\n",
    "\n",
    "print(\"Number of non POI: \", len(npoi_list2))\n",
    "print(\"Number of POI: \", len(poi_list2))\n",
    "print(poi_list2)"
   ]
  },
  {
   "cell_type": "code",
   "execution_count": 141,
   "metadata": {},
   "outputs": [],
   "source": [
    "# Checks if the employees labeled as POI in Enron dataset are also listed in poi_names.txt\n",
    "for POI in poi_list2:\n",
    "    if POI not in poi_list1:\n",
    "        print(POI, \", which is a POI, is not listed in poi_names.txt file.\")\n",
    "\n",
    "# Checks if the employees labeled as non POI in Enron dataset are not listed in poi_names.txt\n",
    "for NPOI in npoi_list2:\n",
    "    if NPOI in poi_list1:\n",
    "        print(NPOI, \", which is not a POI, is listed in poi_names.txt file.\")"
   ]
  },
  {
   "cell_type": "markdown",
   "metadata": {},
   "source": [
    "### 3.3. Outliers\n",
    "As observed in chapter <a href='#exploration'>§2</a>, 3 data points have been defined as outliers and are removed from the dataset:\n",
    "\n",
    "- **KENNETH LAY** is considered as outlier regarding the financial data\n",
    "- **WINCENTY KAMINSKI** is considered as outlier regarding the email data\n",
    "- **EUGENE LOCKHART** is considered as outlier regarding the lack of data"
   ]
  },
  {
   "cell_type": "code",
   "execution_count": 142,
   "metadata": {},
   "outputs": [
    {
     "name": "stdout",
     "output_type": "stream",
     "text": [
      "Number of employees:  141\n"
     ]
    }
   ],
   "source": [
    "# Removes the outliers from the Enron dataset\n",
    "outliers_list = ['LAY KENNETH L', 'KAMINSKI WINCENTY J','LOCKHART EUGENE E']\n",
    "for item in outliers_list:\n",
    "    data_dict.pop(item)\n",
    "    \n",
    "# Enron employees\n",
    "employees_list = list(data_dict.keys())\n",
    "print(\"Number of employees: \", len(employees_list))"
   ]
  },
  {
   "cell_type": "markdown",
   "metadata": {},
   "source": [
    "### 3.4. Summary\n",
    "Some data wrangling has been done in this chapter. Other decisions could have been made on outliers or on the NaN values (mean values instead of null values); other checks could have been done as well on financial data. One key point in this data wrangling was to limit the number of features as the number of data points is quite small to prevent from overfitting. Let's see if the POI classifier works well."
   ]
  },
  {
   "cell_type": "code",
   "execution_count": 143,
   "metadata": {},
   "outputs": [],
   "source": [
    "# Creates the dataset\n",
    "my_dataset = data_dict"
   ]
  },
  {
   "cell_type": "markdown",
   "metadata": {},
   "source": [
    "<a id='classifier'></a>\n",
    "## 4. Data Classifier\n",
    "Shortcut to chapters <a href='#introduction'>1</a>, <a href='#exploration'>2</a>, <a href='#wrangling'>3</a> and <a href='#classifier'>4</a>.  \n",
    "\n",
    "The objective of this chapter is to build a POI classifier based on Enron dataset. It will be done in several steps:  \n",
    "- Create new features\n",
    "- Select the features\n",
    "- Try a variety of classifiers and select the right classifier\n",
    "- Tune the selected classifier\n",
    "- Run the optimized classifier"
   ]
  },
  {
   "cell_type": "markdown",
   "metadata": {},
   "source": [
    "### 4.1. New Features\n",
    "As observed in chapter <a href='#exploration'>§2</a>, the email features would be interested in terms of ratio. New email features are created below."
   ]
  },
  {
   "cell_type": "code",
   "execution_count": 144,
   "metadata": {},
   "outputs": [],
   "source": [
    "# Calculates the ratio between 2 values. NaN for any of the 2 values will result in null values.\n",
    "def calcRatio(poi_messages, all_messages):\n",
    "    ratio = 0.\n",
    "    if poi_messages == \"NaN\" or all_messages == \"NaN\":\n",
    "        ratio = 0.\n",
    "    else:\n",
    "        ratio = float(poi_messages) / float(all_messages)\n",
    "    return ratio\n",
    "\n",
    "# Generates new features in the dataset\n",
    "for name in data_dict:\n",
    "    data_dict[name]['ratio_to_poi'] = calcRatio(data_dict[name]['from_this_person_to_poi'],data_dict[name]['from_messages'])\n",
    "    data_dict[name]['ratio_from_poi'] = calcRatio(data_dict[name]['from_poi_to_this_person'],data_dict[name]['to_messages'])\n",
    "    data_dict[name]['ratio_shared_poi'] = calcRatio(data_dict[name]['shared_receipt_with_poi'],data_dict[name]['to_messages'])"
   ]
  },
  {
   "cell_type": "markdown",
   "metadata": {},
   "source": [
    "### 4.2. Feature Selection\n",
    "Two types of feature selection is done:  \n",
    "- **Manual feature selection** based on the importance of features using a Decision Tree classifier\n",
    "- **Univariate feature selection** using a pipeline selectKBest and Decision Tree classifier"
   ]
  },
  {
   "cell_type": "code",
   "execution_count": 145,
   "metadata": {},
   "outputs": [
    {
     "name": "stdout",
     "output_type": "stream",
     "text": [
      "DecisionTreeClassifier(class_weight=None, criterion='gini', max_depth=None,\n",
      "                       max_features=None, max_leaf_nodes=None,\n",
      "                       min_impurity_decrease=0.0, min_impurity_split=None,\n",
      "                       min_samples_leaf=1, min_samples_split=2,\n",
      "                       min_weight_fraction_leaf=0.0, presort=False,\n",
      "                       random_state=None, splitter='best')\n",
      "\tAccuracy: 0.835\tPrecision: 0.316\tRecall: 0.419\tF1: 0.361\tF2: 0.394\n",
      "\tTotal predictions: 9000\tTrue positives:  419\tFalse positives:  905\tFalse negatives:  581\tTrue negatives: 7095\n",
      "\n",
      "Features importance for email features:\n",
      "ratio_to_poi: 0.317\n",
      "shared_receipt_with_poi: 0.281\n",
      "ratio_from_poi: 0.126\n",
      "from_poi_to_this_person: 0.112\n",
      "to_messages: 0.0957\n",
      "from_this_person_to_poi: 0.068\n",
      "ratio_shared_poi: 0.0\n",
      "from_messages: 0.0\n"
     ]
    }
   ],
   "source": [
    "# Creates a list of email features\n",
    "features_email_list = ['poi',\n",
    "                       'from_this_person_to_poi','from_poi_to_this_person','shared_receipt_with_poi','from_messages','to_messages',\n",
    "                       'ratio_from_poi','ratio_to_poi','ratio_shared_poi']\n",
    "\n",
    "# Evaluates the performance of the classifier\n",
    "clf = tree.DecisionTreeClassifier()\n",
    "test_classifier(clf, my_dataset, features_email_list)\n",
    "\n",
    "# Displays the importance of features\n",
    "print(\"Features importance for email features:\")\n",
    "for importance, feature in sorted(zip(clf.feature_importances_, features_email_list[1:]),reverse=True):\n",
    "    print ('{}: {:.3}'.format(feature, importance))"
   ]
  },
  {
   "cell_type": "code",
   "execution_count": 146,
   "metadata": {},
   "outputs": [
    {
     "name": "stdout",
     "output_type": "stream",
     "text": [
      "Best score: 0.4982993197278911\n",
      "Best estimator: Pipeline(memory=None,\n",
      "         steps=[('sel',\n",
      "                 SelectKBest(k=10,\n",
      "                             score_func=<function f_classif at 0x000001EB1A1A7D38>)),\n",
      "                ('clf',\n",
      "                 DecisionTreeClassifier(class_weight=None, criterion='gini',\n",
      "                                        max_depth=4, max_features=None,\n",
      "                                        max_leaf_nodes=None,\n",
      "                                        min_impurity_decrease=0.0,\n",
      "                                        min_impurity_split=None,\n",
      "                                        min_samples_leaf=1, min_samples_split=2,\n",
      "                                        min_weight_fraction_leaf=0.0,\n",
      "                                        presort=False, random_state=None,\n",
      "                                        splitter='best'))],\n",
      "         verbose=False)\n"
     ]
    },
    {
     "name": "stderr",
     "output_type": "stream",
     "text": [
      "C:\\ProgramData\\Anaconda3\\lib\\site-packages\\sklearn\\model_selection\\_search.py:814: DeprecationWarning: The default of the `iid` parameter will change from True to False in version 0.22 and will be removed in 0.24. This will change numeric results when test-set sizes are unequal.\n",
      "  DeprecationWarning)\n"
     ]
    }
   ],
   "source": [
    "# Extracts the labels and features used by the POI classifier\n",
    "data = featureFormat(data_dict, features_list,remove_all_zeroes=True)\n",
    "labels, features = targetFeatureSplit(data)\n",
    "features_train, features_test, labels_train, labels_test = train_test_split(features, labels, test_size=0.3, random_state=42)\n",
    "\n",
    "# Creates a pipeline of two steps.\n",
    "pipe = Pipeline([('sel', SelectKBest()),\n",
    "                 ('clf', tree.DecisionTreeClassifier())])\n",
    "\n",
    "### Parameters\n",
    "k = [1,2,3,4,5]\n",
    "max_depth = [2,4,6]\n",
    "min_samples_split = [2,10,20]\n",
    "\n",
    "# Creates Parameter Space\n",
    "parameters = [{'sel__k':k},\n",
    "              {'clf__max_depth':max_depth,\n",
    "               'clf__min_samples_split':min_samples_split}]\n",
    "\n",
    "# Conducts Parameter Optmization With Pipeline\n",
    "# Creating a grid search object\n",
    "clf = GridSearchCV(pipe, parameters, scoring='recall', cv=5)\n",
    "\n",
    "# Fits the grid search\n",
    "clf.fit(features_train, labels_train)\n",
    "\n",
    "# Prints the Best Parameters\n",
    "print('Best score:', clf.best_score_)\n",
    "print('Best estimator:', clf.best_estimator_)"
   ]
  },
  {
   "cell_type": "markdown",
   "metadata": {},
   "source": [
    "**Summary:**  \n",
    "Following the study performed above, it is decided to select manually the email features as follows."
   ]
  },
  {
   "cell_type": "code",
   "execution_count": 147,
   "metadata": {},
   "outputs": [],
   "source": [
    "# Adds the newly selected email features to the list of features\n",
    "append_feature_list = ['ratio_from_poi','ratio_to_poi']\n",
    "for feature in append_feature_list:\n",
    "    features_list.append(feature)"
   ]
  },
  {
   "cell_type": "code",
   "execution_count": 148,
   "metadata": {},
   "outputs": [],
   "source": [
    "# Removes the non selected email features from the list of features\n",
    "remove_feature_list = ['from_this_person_to_poi','from_poi_to_this_person','from_messages']\n",
    "for feature in remove_feature_list:\n",
    "    features_list.remove(feature)"
   ]
  },
  {
   "cell_type": "markdown",
   "metadata": {},
   "source": [
    "### 4.3. Multiple Classifiers\n",
    "A variety of standard classifiers will be tested. Some rationale is provided for the selection.  \n",
    "\n",
    "- **Naive Bayes:** Simple to use, very efficient, independant features  \n",
    "- **Decision Tree:** Easy to use, good interpretability, email features plot above  \n",
    "- **AdaBoost** and **RandomForest:** Ensemble methods using decision trees. Maybe with better performance compared to Decision Tree classifier  \n",
    "- **KNN:** Popular classifier  \n",
    "- **SVC:** Popular classifier"
   ]
  },
  {
   "cell_type": "code",
   "execution_count": 149,
   "metadata": {},
   "outputs": [
    {
     "name": "stdout",
     "output_type": "stream",
     "text": [
      "GaussianNB(priors=None, var_smoothing=1e-09)\n",
      "\tAccuracy: 0.826\tPrecision: 0.324\tRecall: 0.283\tF1: 0.303\tF2: 0.291\n",
      "\tTotal predictions: 15000\tTrue positives:  567\tFalse positives: 1181\tFalse negatives: 1433\tTrue negatives: 11819\n",
      "\n",
      "DecisionTreeClassifier(class_weight=None, criterion='gini', max_depth=None,\n",
      "                       max_features=None, max_leaf_nodes=None,\n",
      "                       min_impurity_decrease=0.0, min_impurity_split=None,\n",
      "                       min_samples_leaf=1, min_samples_split=2,\n",
      "                       min_weight_fraction_leaf=0.0, presort=False,\n",
      "                       random_state=None, splitter='best')\n",
      "\tAccuracy: 0.831\tPrecision: 0.366\tRecall: 0.361\tF1: 0.364\tF2: 0.362\n",
      "\tTotal predictions: 15000\tTrue positives:  722\tFalse positives: 1250\tFalse negatives: 1278\tTrue negatives: 11750\n",
      "\n",
      "AdaBoostClassifier(algorithm='SAMME.R', base_estimator=None, learning_rate=1.0,\n",
      "                   n_estimators=50, random_state=None)\n",
      "\tAccuracy: 0.833\tPrecision: 0.329\tRecall: 0.247\tF1: 0.282\tF2: 0.260\n",
      "\tTotal predictions: 15000\tTrue positives:  494\tFalse positives: 1006\tFalse negatives: 1506\tTrue negatives: 11994\n",
      "\n"
     ]
    },
    {
     "name": "stderr",
     "output_type": "stream",
     "text": [
      "C:\\ProgramData\\Anaconda3\\lib\\site-packages\\sklearn\\ensemble\\forest.py:245: FutureWarning: The default value of n_estimators will change from 10 in version 0.20 to 100 in 0.22.\n",
      "  \"10 in version 0.20 to 100 in 0.22.\", FutureWarning)\n"
     ]
    },
    {
     "name": "stdout",
     "output_type": "stream",
     "text": [
      "RandomForestClassifier(bootstrap=True, class_weight=None, criterion='gini',\n",
      "                       max_depth=None, max_features='auto', max_leaf_nodes=None,\n",
      "                       min_impurity_decrease=0.0, min_impurity_split=None,\n",
      "                       min_samples_leaf=1, min_samples_split=2,\n",
      "                       min_weight_fraction_leaf=0.0, n_estimators=10,\n",
      "                       n_jobs=None, oob_score=False, random_state=None,\n",
      "                       verbose=0, warm_start=False)\n",
      "\tAccuracy: 0.858\tPrecision: 0.390\tRecall: 0.117\tF1: 0.179\tF2: 0.136\n",
      "\tTotal predictions: 15000\tTrue positives:  233\tFalse positives:  364\tFalse negatives: 1767\tTrue negatives: 12636\n",
      "\n",
      "KNeighborsClassifier(algorithm='auto', leaf_size=30, metric='minkowski',\n",
      "                     metric_params=None, n_jobs=None, n_neighbors=5, p=2,\n",
      "                     weights='uniform')\n",
      "\tAccuracy: 0.886\tPrecision: 0.747\tRecall: 0.220\tF1: 0.340\tF2: 0.256\n",
      "\tTotal predictions: 15000\tTrue positives:  440\tFalse positives:  149\tFalse negatives: 1560\tTrue negatives: 12851\n",
      "\n",
      "Got a divide by zero when trying out: SVC(C=1.0, cache_size=200, class_weight=None, coef0=0.0,\n",
      "    decision_function_shape='ovr', degree=3, gamma='auto', kernel='rbf',\n",
      "    max_iter=-1, probability=False, random_state=None, shrinking=True,\n",
      "    tol=0.001, verbose=False)\n",
      "Precision or recall may be undefined due to a lack of true positive predicitons.\n"
     ]
    }
   ],
   "source": [
    "# List of classifiers\n",
    "classifiers = [GaussianNB(),\n",
    "               tree.DecisionTreeClassifier(),\n",
    "               ensemble.AdaBoostClassifier(),\n",
    "               ensemble.RandomForestClassifier(),\n",
    "               neighbors.KNeighborsClassifier(),\n",
    "               SVC(gamma='auto')]\n",
    "\n",
    "# Evaluates the performance for each classifier\n",
    "for classifier in classifiers:\n",
    "    clf = classifier\n",
    "    test_classifier(clf, my_dataset, features_list)"
   ]
  },
  {
   "cell_type": "markdown",
   "metadata": {},
   "source": [
    "**Summary:**   \n",
    "- **Naive Bayes:** Very good overall performance.  \n",
    "- **Decision Tree:** Very good overall performance.  \n",
    "- **AdaBoost:** Very good overall performance  \n",
    "- **RandomForest:** Good performance except for the recall  \n",
    "- **KNN:** Bad performance. The reason could be that no feature scaling was performed. Feature scaling and principal component analysis was tested with KNN algorithm but is not presented in this project (the code is available in **poi_id.py**)   \n",
    "- **SVM:** Bad performance as the precision or recall are undefined. As seen during Udacity course, this algorithm works well when there is a clear margin of separation and no overlap of the classes. As observed during the data exploration, POI and non POI are overlapping for most features. So, this is not a suprise.  \n",
    "\n",
    "**Conclusion:** **Naive Bayes**, **Decision Tree** and **AdaBoost** classifiers have about the same performance. The **Decision Tree** classifier will be selected to build the POI classifier."
   ]
  },
  {
   "cell_type": "markdown",
   "metadata": {},
   "source": [
    "### 4.4. Classifier Best Parameters\n",
    "The selected classifier **Decision Tree** will be tuned in order to get the best parameters. 3 parameters are chosen: **criterion**, **max_depth** and **min_samples_split**.  \n",
    "\n",
    "During this analysis, 2 parameters might impact this tuning:  \n",
    "- **test_size** when the train/test data are split due to the low number of data points. A standard value of 0.3 is chosen.\n",
    "- **scoring** used in GridSearchCV. Indeed, the performance evaluation through GridSearchCV will be not the same performance evaluation performed through **tester.py**. Let's assume this is not a problem. As the objective of this project is to get a minimum of 0.3 for both precision and recall, this parameter is set to 'recall' since the recall is very closed to 0.3 whereas the precision is higher."
   ]
  },
  {
   "cell_type": "code",
   "execution_count": 150,
   "metadata": {},
   "outputs": [
    {
     "name": "stdout",
     "output_type": "stream",
     "text": [
      "Best criterion: entropy\n",
      "Best max_depth: 10\n",
      "Best min_samples_split: 2\n"
     ]
    },
    {
     "name": "stderr",
     "output_type": "stream",
     "text": [
      "C:\\ProgramData\\Anaconda3\\lib\\site-packages\\sklearn\\model_selection\\_search.py:814: DeprecationWarning: The default of the `iid` parameter will change from True to False in version 0.22 and will be removed in 0.24. This will change numeric results when test-set sizes are unequal.\n",
      "  DeprecationWarning)\n"
     ]
    }
   ],
   "source": [
    "data = featureFormat(data_dict, features_list,remove_all_zeroes=True)\n",
    "labels, features = targetFeatureSplit(data)\n",
    "\n",
    "# Splits the train/test data for the features and labels\n",
    "features_train, features_test, labels_train, labels_test = train_test_split(features, labels, test_size=0.3, random_state=42)\n",
    "\n",
    "### Parameters for GridSearchCV\n",
    "criterion = ['gini', 'entropy']\n",
    "max_depth = [2,4,6,8,10,15,20,50]\n",
    "min_samples_split = [2,10,20,30,40]\n",
    "\n",
    "parameters = {'criterion':criterion,\n",
    "              'max_depth':max_depth,\n",
    "              'min_samples_split':min_samples_split}\n",
    "\n",
    "# Runs GridSearchCV\n",
    "clf = GridSearchCV(tree.DecisionTreeClassifier(), parameters, scoring='recall', cv=5)\n",
    "clf.fit(features_train, labels_train)\n",
    "\n",
    "# Viewing of the Best Parameters\n",
    "print('Best criterion:', clf.best_estimator_.get_params()['criterion'])\n",
    "print('Best max_depth:', clf.best_estimator_.get_params()['max_depth'])\n",
    "print('Best min_samples_split:', clf.best_estimator_.get_params()['min_samples_split'])"
   ]
  },
  {
   "cell_type": "markdown",
   "metadata": {},
   "source": [
    "### 4.5. Final Classifier\n",
    "The POI identifier will be the **DecisionTree** classifier optimized with the above best parameters."
   ]
  },
  {
   "cell_type": "code",
   "execution_count": 151,
   "metadata": {
    "scrolled": true
   },
   "outputs": [
    {
     "name": "stdout",
     "output_type": "stream",
     "text": [
      "DecisionTreeClassifier(class_weight=None, criterion='entropy', max_depth=6,\n",
      "                       max_features=None, max_leaf_nodes=None,\n",
      "                       min_impurity_decrease=0.0, min_impurity_split=None,\n",
      "                       min_samples_leaf=1, min_samples_split=2,\n",
      "                       min_weight_fraction_leaf=0.0, presort=False,\n",
      "                       random_state=None, splitter='best')\n",
      "\tAccuracy: 0.841\tPrecision: 0.406\tRecall: 0.414\tF1: 0.410\tF2: 0.412\n",
      "\tTotal predictions: 15000\tTrue positives:  828\tFalse positives: 1211\tFalse negatives: 1172\tTrue negatives: 11789\n",
      "\n",
      "Features importance:\n",
      "other: importance = 0.278\n",
      "ratio_to_poi: importance = 0.233\n",
      "expenses: importance = 0.23\n",
      "total_stock_value: importance = 0.108\n",
      "shared_receipt_with_poi: importance = 0.0915\n"
     ]
    }
   ],
   "source": [
    "clf = tree.DecisionTreeClassifier(criterion='entropy',max_depth=6,min_samples_split=2)\n",
    "test_classifier(clf, my_dataset, features_list)\n",
    "\n",
    "# Prints the feature importance\n",
    "print(\"Features importance:\")\n",
    "for importance, feature in sorted(zip(clf.feature_importances_, features_list[1:]),reverse=True)[:5]:\n",
    "    print ('{}: importance = {:.3}'.format(feature, importance))"
   ]
  },
  {
   "cell_type": "code",
   "execution_count": 155,
   "metadata": {},
   "outputs": [
    {
     "name": "stdout",
     "output_type": "stream",
     "text": [
      "                                  Accuracy  Precision  Recall     F1     F2\n",
      "DecisionTree Before Optimization     0.831      0.366   0.361  0.364  0.362\n",
      "DecisionTree After Optimization      0.841      0.406   0.414  0.410  0.412\n"
     ]
    }
   ],
   "source": [
    "# Summarizes the metrics before and after optimization (manual copy/paste)\n",
    "performance_df = pd.DataFrame(\n",
    "    data=[[0.831, 0.366, 0.361, 0.364, 0.362],\n",
    "          [0.841, 0.406, 0.414, 0.410, 0.412]],\n",
    "    index=['DecisionTree Before Optimization', 'DecisionTree After Optimization'],\n",
    "    columns=['Accuracy', 'Precision', 'Recall', 'F1', 'F2'])\n",
    "print(performance_df)"
   ]
  },
  {
   "cell_type": "markdown",
   "metadata": {},
   "source": [
    "**Summary:**   \n",
    "All metrics have been improved after the optimization.\n",
    "The evaluation will focus on the 2 following metrics: accuracy and precision. The evaluation metrics give: the accuracy around 0.85 and the precision about 0.4. In this POI identifier:\n",
    "- The accuracy quantifies the number of employees correctly identified (POI - true positive - or non POI - true negative) out of the total number of employees.\n",
    "- The precision quantifies the number of employees correctly identified as POI out of the total number of employees identified as POI (whatever it is correct - true positive - or incorrect - false positive)."
   ]
  },
  {
   "cell_type": "markdown",
   "metadata": {},
   "source": [
    "### 4.5. Dump Classifier and Data\n",
    "The classifier, the dataset and the list of features are generated for Udacity review."
   ]
  },
  {
   "cell_type": "code",
   "execution_count": 153,
   "metadata": {},
   "outputs": [],
   "source": [
    "dump_classifier_and_data(clf, my_dataset, features_list)"
   ]
  },
  {
   "cell_type": "code",
   "execution_count": 154,
   "metadata": {},
   "outputs": [
    {
     "name": "stdout",
     "output_type": "stream",
     "text": [
      "Total elapsed time: 96.718 s\n"
     ]
    }
   ],
   "source": [
    "print (\"Total elapsed time:\", round(time.time()-t0, 3), \"s\")"
   ]
  }
 ],
 "metadata": {
  "kernelspec": {
   "display_name": "Python 3",
   "language": "python",
   "name": "python3"
  },
  "language_info": {
   "codemirror_mode": {
    "name": "ipython",
    "version": 3
   },
   "file_extension": ".py",
   "mimetype": "text/x-python",
   "name": "python",
   "nbconvert_exporter": "python",
   "pygments_lexer": "ipython3",
   "version": "3.7.4"
  }
 },
 "nbformat": 4,
 "nbformat_minor": 2
}
